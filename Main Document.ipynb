{
 "cells": [
  {
   "cell_type": "code",
   "execution_count": null,
   "id": "05992c52-d415-4ee8-849d-f79da8a8fb89",
   "metadata": {
    "tags": []
   },
   "outputs": [],
   "source": [
    "library(tidyverse) \n",
    "library(dplyr)\n",
    "library(tidymodels)"
   ]
  },
  {
   "cell_type": "code",
   "execution_count": null,
   "id": "053d9dcc-0b4a-465e-8443-bd3c54157cf5",
   "metadata": {
    "tags": []
   },
   "outputs": [],
   "source": [
    "download.file(\"https://raw.githubusercontent.com/matthewsans/DCSI-100-group-project/main/penguins_lter.csv\", \"penguins\")\n",
    "penguin_data <- read_csv(\"penguins\")\n",
    "head(penguin_data)\n"
   ]
  },
  {
   "cell_type": "code",
   "execution_count": null,
   "id": "ffed0983-45fb-4996-b00a-f989ba2c9db1",
   "metadata": {
    "tags": []
   },
   "outputs": [],
   "source": [
    "names(penguin_data)[13] <- \"body_mass\"\n",
    "names(penguin_data)[2] <- \"sample_number\"\n",
    "names(penguin_data)[10] <- \"culmen_length\"\n",
    "names(penguin_data)[11] <- \"culmen_depth\"\n",
    "names(penguin_data)[12] <- \"flipper_length\"\n",
    "names(penguin_data)[13] <- \"body_mass\"\n",
    "names(penguin_data)[3] <- \"species\"\n",
    "names(penguin_data)[4] <- \"region\"\n",
    "names(penguin_data)[5] <- \"island\"\n",
    "\n",
    "set.seed(1234)\n",
    "clean_penguin <- select(penguin_data, c(species, region, island, culmen_length, culmen_depth, flipper_length, body_mass))\n",
    "clean_penguin <- clean_penguin |> mutate(species = as.factor(species))\n",
    "head(clean_penguin)\n",
    "split_penguin <- initial_split(clean_penguin, prop = 0.75, strata = species)\n",
    "penguin_training <- training(split_penguin)  # USE FOR DATA VISUALATION/TRAINING\n",
    "penguin_testing <- testing(split_penguin)    # DO NOT USE UNTIL FINAL TEST"
   ]
  },
  {
   "cell_type": "markdown",
   "id": "6dd68409-df88-4389-8704-60503ab08db9",
   "metadata": {},
   "source": [
    "Introduction\n",
    "Backgroud Information: The Antarctic region which is characterized by its extreme climate and pristine wilderness, is a critical habitat for penguins. The dataset that is used in this project is collected in the Palmer Archipelago, which is situated off the western coast of the Antarctic Peninsula, and hosts three species of penguin. \n",
    "\n",
    "\n",
    "Research Question: The research question this project is going to answer is how to predict the species of penguin based on their culmen length (mm), culmen depth (mm), flipper length (mm), and body mass (g). To answer the research question, we utilize a comprehensive dataset containing information on the three penguin species which are Chinstrap, Adélie, and Gentoo.\n",
    "\n",
    "\n",
    "Description of the Dataset: The dataset encompasses critical parameters, including species type, culmen length (mm), culmen depth (mm), flipper length (mm), body mass (g), island location (Dream, Torgersen, or Biscoe), and sex of individual penguins. This dataset, carefully collected and made available by Dr. Kristen Gorman and the Palmer Station, Antarctica LTER, a member of the Long Term Ecological Research Network, provides valuable insights into the ecological and morphological characteristics of penguin populations.\n"
   ]
  },
  {
   "cell_type": "markdown",
   "id": "0f8a4568-dbb3-4ebc-b569-f0dbc7121028",
   "metadata": {},
   "source": [
    "Methods:\n",
    "For our question, we plan to predict Penguin Species (Adelie, Chinstrap, or Gentoo) by looking at the variables \"culmen_length\", \"culmen_Depth\", \"flipper_length\", and \"body_mass\". Each of these are numerical variables that should allow us to easily calculate the nearest neighbors. In this way, we should be able to predict a penguins species when given only the culmen length, culmen debth, flipper length, and body mass. One way that we plan to visualize these is by using multivariate histogram charts. We will plot the different variables individually on histogram charts and color the bars to represent the count from each penguin species. Then, we will line the charts up in a grid so they are easier to read. \n",
    "\n",
    "Expected outcomes and significance:\n",
    "We expect to find that some penguin species typically have certain traits. For example, maybe one of the penguin species typically has the shortest culmen length. These findings could lend insight into the penguins evolution process. If we look at specific traits that have been developed over millions of years, we could perhaps get a better picture of what the world was like when they were evolving through the specific traits they developed. This could lead to future questions involving why certain penguin species developed differently than other penguin species and, in a similar vein, questions about where they will go from here."
   ]
  },
  {
   "cell_type": "code",
   "execution_count": null,
   "id": "98525371-fee2-4c87-9098-024248ab0fd2",
   "metadata": {
    "tags": []
   },
   "outputs": [],
   "source": [
    "\n",
    "penguin_mean <- penguin_training |>\n",
    "      group_by(species) |>\n",
    "      summarize(across(culmen_length:body_mass, mean, na.rm = TRUE))\n",
    "colnames(penguin_mean)[2:7] <- c(\"mean_culmen_length\", \"mean_culmen_depth\", \"mean_flipper_length\", \"mean_body_mass\")\n",
    "head(penguin_mean)\n",
    "penguin_na <- sum(is.na(penguin_training))\n",
    "penguin_explore <- mutate(penguin_mean, total_na = penguin_na)\n",
    "\n",
    "#Visualization\n",
    "options(repr.plot.width = 8, repr.plot.length = 3)\n",
    "penguin_visual <- ggplot(penguin_training, aes(x = flipper_length, y = culmen_length, color = species, shape = species)) +\n",
    "    geom_point() + \n",
    "    labs(x = \"Flipper Length (mm)\", y = \"Bill Length (mm)\", color = \"Species\", shape = \"Species\") +\n",
    "    ggtitle(\"Culmen and Flipper Lengths of Different Species\") +\n",
    "    theme(text = element_text(size = 12)) \n",
    "penguin_visual"
   ]
  },
  {
   "cell_type": "code",
   "execution_count": null,
   "id": "17338125-87b4-46b8-97f9-6c785c39354e",
   "metadata": {},
   "outputs": [],
   "source": []
  }
 ],
 "metadata": {
  "kernelspec": {
   "display_name": "R",
   "language": "R",
   "name": "ir"
  },
  "language_info": {
   "codemirror_mode": "r",
   "file_extension": ".r",
   "mimetype": "text/x-r-source",
   "name": "R",
   "pygments_lexer": "r",
   "version": "4.2.2"
  }
 },
 "nbformat": 4,
 "nbformat_minor": 5
}
