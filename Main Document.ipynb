{
 "cells": [
  {
   "cell_type": "code",
   "execution_count": 1,
   "id": "05992c52-d415-4ee8-849d-f79da8a8fb89",
   "metadata": {
    "tags": []
   },
   "outputs": [
    {
     "name": "stderr",
     "output_type": "stream",
     "text": [
      "── \u001b[1mAttaching packages\u001b[22m ─────────────────────────────────────── tidyverse 1.3.2 ──\n",
      "\u001b[32m✔\u001b[39m \u001b[34mggplot2\u001b[39m 3.4.2     \u001b[32m✔\u001b[39m \u001b[34mpurrr  \u001b[39m 1.0.1\n",
      "\u001b[32m✔\u001b[39m \u001b[34mtibble \u001b[39m 3.2.1     \u001b[32m✔\u001b[39m \u001b[34mdplyr  \u001b[39m 1.1.1\n",
      "\u001b[32m✔\u001b[39m \u001b[34mtidyr  \u001b[39m 1.3.0     \u001b[32m✔\u001b[39m \u001b[34mstringr\u001b[39m 1.5.0\n",
      "\u001b[32m✔\u001b[39m \u001b[34mreadr  \u001b[39m 2.1.3     \u001b[32m✔\u001b[39m \u001b[34mforcats\u001b[39m 0.5.2\n",
      "── \u001b[1mConflicts\u001b[22m ────────────────────────────────────────── tidyverse_conflicts() ──\n",
      "\u001b[31m✖\u001b[39m \u001b[34mdplyr\u001b[39m::\u001b[32mfilter()\u001b[39m masks \u001b[34mstats\u001b[39m::filter()\n",
      "\u001b[31m✖\u001b[39m \u001b[34mdplyr\u001b[39m::\u001b[32mlag()\u001b[39m    masks \u001b[34mstats\u001b[39m::lag()\n",
      "── \u001b[1mAttaching packages\u001b[22m ────────────────────────────────────── tidymodels 1.0.0 ──\n",
      "\n",
      "\u001b[32m✔\u001b[39m \u001b[34mbroom       \u001b[39m 1.0.2     \u001b[32m✔\u001b[39m \u001b[34mrsample     \u001b[39m 1.1.1\n",
      "\u001b[32m✔\u001b[39m \u001b[34mdials       \u001b[39m 1.1.0     \u001b[32m✔\u001b[39m \u001b[34mtune        \u001b[39m 1.0.1\n",
      "\u001b[32m✔\u001b[39m \u001b[34minfer       \u001b[39m 1.0.4     \u001b[32m✔\u001b[39m \u001b[34mworkflows   \u001b[39m 1.1.2\n",
      "\u001b[32m✔\u001b[39m \u001b[34mmodeldata   \u001b[39m 1.0.1     \u001b[32m✔\u001b[39m \u001b[34mworkflowsets\u001b[39m 1.0.0\n",
      "\u001b[32m✔\u001b[39m \u001b[34mparsnip     \u001b[39m 1.0.3     \u001b[32m✔\u001b[39m \u001b[34myardstick   \u001b[39m 1.1.0\n",
      "\u001b[32m✔\u001b[39m \u001b[34mrecipes     \u001b[39m 1.0.4     \n",
      "\n",
      "── \u001b[1mConflicts\u001b[22m ───────────────────────────────────────── tidymodels_conflicts() ──\n",
      "\u001b[31m✖\u001b[39m \u001b[34mscales\u001b[39m::\u001b[32mdiscard()\u001b[39m masks \u001b[34mpurrr\u001b[39m::discard()\n",
      "\u001b[31m✖\u001b[39m \u001b[34mdplyr\u001b[39m::\u001b[32mfilter()\u001b[39m   masks \u001b[34mstats\u001b[39m::filter()\n",
      "\u001b[31m✖\u001b[39m \u001b[34mrecipes\u001b[39m::\u001b[32mfixed()\u001b[39m  masks \u001b[34mstringr\u001b[39m::fixed()\n",
      "\u001b[31m✖\u001b[39m \u001b[34mdplyr\u001b[39m::\u001b[32mlag()\u001b[39m      masks \u001b[34mstats\u001b[39m::lag()\n",
      "\u001b[31m✖\u001b[39m \u001b[34myardstick\u001b[39m::\u001b[32mspec()\u001b[39m masks \u001b[34mreadr\u001b[39m::spec()\n",
      "\u001b[31m✖\u001b[39m \u001b[34mrecipes\u001b[39m::\u001b[32mstep()\u001b[39m   masks \u001b[34mstats\u001b[39m::step()\n",
      "\u001b[34m•\u001b[39m Learn how to get started at \u001b[32mhttps://www.tidymodels.org/start/\u001b[39m\n",
      "\n"
     ]
    }
   ],
   "source": [
    "library(tidyverse) \n",
    "library(dplyr)\n",
    "library(tidymodels)"
   ]
  },
  {
   "cell_type": "code",
   "execution_count": 2,
   "id": "053d9dcc-0b4a-465e-8443-bd3c54157cf5",
   "metadata": {
    "tags": []
   },
   "outputs": [
    {
     "name": "stderr",
     "output_type": "stream",
     "text": [
      "\u001b[1mRows: \u001b[22m\u001b[34m344\u001b[39m \u001b[1mColumns: \u001b[22m\u001b[34m17\u001b[39m\n",
      "\u001b[36m──\u001b[39m \u001b[1mColumn specification\u001b[22m \u001b[36m────────────────────────────────────────────────────────\u001b[39m\n",
      "\u001b[1mDelimiter:\u001b[22m \",\"\n",
      "\u001b[31mchr\u001b[39m (10): studyName, Species, Region, Island, Stage, Individual ID, Clutch C...\n",
      "\u001b[32mdbl\u001b[39m  (7): Sample Number, Culmen Length (mm), Culmen Depth (mm), Flipper Leng...\n",
      "\n",
      "\u001b[36mℹ\u001b[39m Use `spec()` to retrieve the full column specification for this data.\n",
      "\u001b[36mℹ\u001b[39m Specify the column types or set `show_col_types = FALSE` to quiet this message.\n"
     ]
    },
    {
     "data": {
      "text/html": [
       "<table class=\"dataframe\">\n",
       "<caption>A tibble: 6 × 17</caption>\n",
       "<thead>\n",
       "\t<tr><th scope=col>studyName</th><th scope=col>Sample Number</th><th scope=col>Species</th><th scope=col>Region</th><th scope=col>Island</th><th scope=col>Stage</th><th scope=col>Individual ID</th><th scope=col>Clutch Completion</th><th scope=col>Date Egg</th><th scope=col>Culmen Length (mm)</th><th scope=col>Culmen Depth (mm)</th><th scope=col>Flipper Length (mm)</th><th scope=col>Body Mass (g)</th><th scope=col>Sex</th><th scope=col>Delta 15 N (o/oo)</th><th scope=col>Delta 13 C (o/oo)</th><th scope=col>Comments</th></tr>\n",
       "\t<tr><th scope=col>&lt;chr&gt;</th><th scope=col>&lt;dbl&gt;</th><th scope=col>&lt;chr&gt;</th><th scope=col>&lt;chr&gt;</th><th scope=col>&lt;chr&gt;</th><th scope=col>&lt;chr&gt;</th><th scope=col>&lt;chr&gt;</th><th scope=col>&lt;chr&gt;</th><th scope=col>&lt;chr&gt;</th><th scope=col>&lt;dbl&gt;</th><th scope=col>&lt;dbl&gt;</th><th scope=col>&lt;dbl&gt;</th><th scope=col>&lt;dbl&gt;</th><th scope=col>&lt;chr&gt;</th><th scope=col>&lt;dbl&gt;</th><th scope=col>&lt;dbl&gt;</th><th scope=col>&lt;chr&gt;</th></tr>\n",
       "</thead>\n",
       "<tbody>\n",
       "\t<tr><td>PAL0708</td><td>1</td><td>Adelie Penguin (Pygoscelis adeliae)</td><td>Anvers</td><td>Torgersen</td><td>Adult, 1 Egg Stage</td><td>N1A1</td><td>Yes</td><td>11/11/07</td><td>39.1</td><td>18.7</td><td>181</td><td>3750</td><td>MALE  </td><td>     NA</td><td>       NA</td><td>Not enough blood for isotopes.</td></tr>\n",
       "\t<tr><td>PAL0708</td><td>2</td><td>Adelie Penguin (Pygoscelis adeliae)</td><td>Anvers</td><td>Torgersen</td><td>Adult, 1 Egg Stage</td><td>N1A2</td><td>Yes</td><td>11/11/07</td><td>39.5</td><td>17.4</td><td>186</td><td>3800</td><td>FEMALE</td><td>8.94956</td><td>-24.69454</td><td>NA                            </td></tr>\n",
       "\t<tr><td>PAL0708</td><td>3</td><td>Adelie Penguin (Pygoscelis adeliae)</td><td>Anvers</td><td>Torgersen</td><td>Adult, 1 Egg Stage</td><td>N2A1</td><td>Yes</td><td>11/16/07</td><td>40.3</td><td>18.0</td><td>195</td><td>3250</td><td>FEMALE</td><td>8.36821</td><td>-25.33302</td><td>NA                            </td></tr>\n",
       "\t<tr><td>PAL0708</td><td>4</td><td>Adelie Penguin (Pygoscelis adeliae)</td><td>Anvers</td><td>Torgersen</td><td>Adult, 1 Egg Stage</td><td>N2A2</td><td>Yes</td><td>11/16/07</td><td>  NA</td><td>  NA</td><td> NA</td><td>  NA</td><td>NA    </td><td>     NA</td><td>       NA</td><td>Adult not sampled.            </td></tr>\n",
       "\t<tr><td>PAL0708</td><td>5</td><td>Adelie Penguin (Pygoscelis adeliae)</td><td>Anvers</td><td>Torgersen</td><td>Adult, 1 Egg Stage</td><td>N3A1</td><td>Yes</td><td>11/16/07</td><td>36.7</td><td>19.3</td><td>193</td><td>3450</td><td>FEMALE</td><td>8.76651</td><td>-25.32426</td><td>NA                            </td></tr>\n",
       "\t<tr><td>PAL0708</td><td>6</td><td>Adelie Penguin (Pygoscelis adeliae)</td><td>Anvers</td><td>Torgersen</td><td>Adult, 1 Egg Stage</td><td>N3A2</td><td>Yes</td><td>11/16/07</td><td>39.3</td><td>20.6</td><td>190</td><td>3650</td><td>MALE  </td><td>8.66496</td><td>-25.29805</td><td>NA                            </td></tr>\n",
       "</tbody>\n",
       "</table>\n"
      ],
      "text/latex": [
       "A tibble: 6 × 17\n",
       "\\begin{tabular}{lllllllllllllllll}\n",
       " studyName & Sample Number & Species & Region & Island & Stage & Individual ID & Clutch Completion & Date Egg & Culmen Length (mm) & Culmen Depth (mm) & Flipper Length (mm) & Body Mass (g) & Sex & Delta 15 N (o/oo) & Delta 13 C (o/oo) & Comments\\\\\n",
       " <chr> & <dbl> & <chr> & <chr> & <chr> & <chr> & <chr> & <chr> & <chr> & <dbl> & <dbl> & <dbl> & <dbl> & <chr> & <dbl> & <dbl> & <chr>\\\\\n",
       "\\hline\n",
       "\t PAL0708 & 1 & Adelie Penguin (Pygoscelis adeliae) & Anvers & Torgersen & Adult, 1 Egg Stage & N1A1 & Yes & 11/11/07 & 39.1 & 18.7 & 181 & 3750 & MALE   &      NA &        NA & Not enough blood for isotopes.\\\\\n",
       "\t PAL0708 & 2 & Adelie Penguin (Pygoscelis adeliae) & Anvers & Torgersen & Adult, 1 Egg Stage & N1A2 & Yes & 11/11/07 & 39.5 & 17.4 & 186 & 3800 & FEMALE & 8.94956 & -24.69454 & NA                            \\\\\n",
       "\t PAL0708 & 3 & Adelie Penguin (Pygoscelis adeliae) & Anvers & Torgersen & Adult, 1 Egg Stage & N2A1 & Yes & 11/16/07 & 40.3 & 18.0 & 195 & 3250 & FEMALE & 8.36821 & -25.33302 & NA                            \\\\\n",
       "\t PAL0708 & 4 & Adelie Penguin (Pygoscelis adeliae) & Anvers & Torgersen & Adult, 1 Egg Stage & N2A2 & Yes & 11/16/07 &   NA &   NA &  NA &   NA & NA     &      NA &        NA & Adult not sampled.            \\\\\n",
       "\t PAL0708 & 5 & Adelie Penguin (Pygoscelis adeliae) & Anvers & Torgersen & Adult, 1 Egg Stage & N3A1 & Yes & 11/16/07 & 36.7 & 19.3 & 193 & 3450 & FEMALE & 8.76651 & -25.32426 & NA                            \\\\\n",
       "\t PAL0708 & 6 & Adelie Penguin (Pygoscelis adeliae) & Anvers & Torgersen & Adult, 1 Egg Stage & N3A2 & Yes & 11/16/07 & 39.3 & 20.6 & 190 & 3650 & MALE   & 8.66496 & -25.29805 & NA                            \\\\\n",
       "\\end{tabular}\n"
      ],
      "text/markdown": [
       "\n",
       "A tibble: 6 × 17\n",
       "\n",
       "| studyName &lt;chr&gt; | Sample Number &lt;dbl&gt; | Species &lt;chr&gt; | Region &lt;chr&gt; | Island &lt;chr&gt; | Stage &lt;chr&gt; | Individual ID &lt;chr&gt; | Clutch Completion &lt;chr&gt; | Date Egg &lt;chr&gt; | Culmen Length (mm) &lt;dbl&gt; | Culmen Depth (mm) &lt;dbl&gt; | Flipper Length (mm) &lt;dbl&gt; | Body Mass (g) &lt;dbl&gt; | Sex &lt;chr&gt; | Delta 15 N (o/oo) &lt;dbl&gt; | Delta 13 C (o/oo) &lt;dbl&gt; | Comments &lt;chr&gt; |\n",
       "|---|---|---|---|---|---|---|---|---|---|---|---|---|---|---|---|---|\n",
       "| PAL0708 | 1 | Adelie Penguin (Pygoscelis adeliae) | Anvers | Torgersen | Adult, 1 Egg Stage | N1A1 | Yes | 11/11/07 | 39.1 | 18.7 | 181 | 3750 | MALE   |      NA |        NA | Not enough blood for isotopes. |\n",
       "| PAL0708 | 2 | Adelie Penguin (Pygoscelis adeliae) | Anvers | Torgersen | Adult, 1 Egg Stage | N1A2 | Yes | 11/11/07 | 39.5 | 17.4 | 186 | 3800 | FEMALE | 8.94956 | -24.69454 | NA                             |\n",
       "| PAL0708 | 3 | Adelie Penguin (Pygoscelis adeliae) | Anvers | Torgersen | Adult, 1 Egg Stage | N2A1 | Yes | 11/16/07 | 40.3 | 18.0 | 195 | 3250 | FEMALE | 8.36821 | -25.33302 | NA                             |\n",
       "| PAL0708 | 4 | Adelie Penguin (Pygoscelis adeliae) | Anvers | Torgersen | Adult, 1 Egg Stage | N2A2 | Yes | 11/16/07 |   NA |   NA |  NA |   NA | NA     |      NA |        NA | Adult not sampled.             |\n",
       "| PAL0708 | 5 | Adelie Penguin (Pygoscelis adeliae) | Anvers | Torgersen | Adult, 1 Egg Stage | N3A1 | Yes | 11/16/07 | 36.7 | 19.3 | 193 | 3450 | FEMALE | 8.76651 | -25.32426 | NA                             |\n",
       "| PAL0708 | 6 | Adelie Penguin (Pygoscelis adeliae) | Anvers | Torgersen | Adult, 1 Egg Stage | N3A2 | Yes | 11/16/07 | 39.3 | 20.6 | 190 | 3650 | MALE   | 8.66496 | -25.29805 | NA                             |\n",
       "\n"
      ],
      "text/plain": [
       "  studyName Sample Number Species                             Region Island   \n",
       "1 PAL0708   1             Adelie Penguin (Pygoscelis adeliae) Anvers Torgersen\n",
       "2 PAL0708   2             Adelie Penguin (Pygoscelis adeliae) Anvers Torgersen\n",
       "3 PAL0708   3             Adelie Penguin (Pygoscelis adeliae) Anvers Torgersen\n",
       "4 PAL0708   4             Adelie Penguin (Pygoscelis adeliae) Anvers Torgersen\n",
       "5 PAL0708   5             Adelie Penguin (Pygoscelis adeliae) Anvers Torgersen\n",
       "6 PAL0708   6             Adelie Penguin (Pygoscelis adeliae) Anvers Torgersen\n",
       "  Stage              Individual ID Clutch Completion Date Egg\n",
       "1 Adult, 1 Egg Stage N1A1          Yes               11/11/07\n",
       "2 Adult, 1 Egg Stage N1A2          Yes               11/11/07\n",
       "3 Adult, 1 Egg Stage N2A1          Yes               11/16/07\n",
       "4 Adult, 1 Egg Stage N2A2          Yes               11/16/07\n",
       "5 Adult, 1 Egg Stage N3A1          Yes               11/16/07\n",
       "6 Adult, 1 Egg Stage N3A2          Yes               11/16/07\n",
       "  Culmen Length (mm) Culmen Depth (mm) Flipper Length (mm) Body Mass (g) Sex   \n",
       "1 39.1               18.7              181                 3750          MALE  \n",
       "2 39.5               17.4              186                 3800          FEMALE\n",
       "3 40.3               18.0              195                 3250          FEMALE\n",
       "4   NA                 NA               NA                   NA          NA    \n",
       "5 36.7               19.3              193                 3450          FEMALE\n",
       "6 39.3               20.6              190                 3650          MALE  \n",
       "  Delta 15 N (o/oo) Delta 13 C (o/oo) Comments                      \n",
       "1      NA                  NA         Not enough blood for isotopes.\n",
       "2 8.94956           -24.69454         NA                            \n",
       "3 8.36821           -25.33302         NA                            \n",
       "4      NA                  NA         Adult not sampled.            \n",
       "5 8.76651           -25.32426         NA                            \n",
       "6 8.66496           -25.29805         NA                            "
      ]
     },
     "metadata": {},
     "output_type": "display_data"
    }
   ],
   "source": [
    "download.file(\"https://raw.githubusercontent.com/matthewsans/DCSI-100-group-project/main/penguins_lter.csv\", \"penguins\")\n",
    "penguin_data <- read_csv(\"penguins\")\n",
    "head(penguin_data)\n"
   ]
  },
  {
   "cell_type": "code",
   "execution_count": 4,
   "id": "ffed0983-45fb-4996-b00a-f989ba2c9db1",
   "metadata": {
    "tags": []
   },
   "outputs": [
    {
     "data": {
      "text/html": [
       "<table class=\"dataframe\">\n",
       "<caption>A tibble: 6 × 7</caption>\n",
       "<thead>\n",
       "\t<tr><th scope=col>species</th><th scope=col>region</th><th scope=col>island</th><th scope=col>culmen_length</th><th scope=col>culmen_depth</th><th scope=col>flipper_length</th><th scope=col>body_mass</th></tr>\n",
       "\t<tr><th scope=col>&lt;fct&gt;</th><th scope=col>&lt;chr&gt;</th><th scope=col>&lt;chr&gt;</th><th scope=col>&lt;dbl&gt;</th><th scope=col>&lt;dbl&gt;</th><th scope=col>&lt;dbl&gt;</th><th scope=col>&lt;dbl&gt;</th></tr>\n",
       "</thead>\n",
       "<tbody>\n",
       "\t<tr><td>Adelie Penguin (Pygoscelis adeliae)</td><td>Anvers</td><td>Torgersen</td><td>39.1</td><td>18.7</td><td>181</td><td>3750</td></tr>\n",
       "\t<tr><td>Adelie Penguin (Pygoscelis adeliae)</td><td>Anvers</td><td>Torgersen</td><td>39.5</td><td>17.4</td><td>186</td><td>3800</td></tr>\n",
       "\t<tr><td>Adelie Penguin (Pygoscelis adeliae)</td><td>Anvers</td><td>Torgersen</td><td>40.3</td><td>18.0</td><td>195</td><td>3250</td></tr>\n",
       "\t<tr><td>Adelie Penguin (Pygoscelis adeliae)</td><td>Anvers</td><td>Torgersen</td><td>  NA</td><td>  NA</td><td> NA</td><td>  NA</td></tr>\n",
       "\t<tr><td>Adelie Penguin (Pygoscelis adeliae)</td><td>Anvers</td><td>Torgersen</td><td>36.7</td><td>19.3</td><td>193</td><td>3450</td></tr>\n",
       "\t<tr><td>Adelie Penguin (Pygoscelis adeliae)</td><td>Anvers</td><td>Torgersen</td><td>39.3</td><td>20.6</td><td>190</td><td>3650</td></tr>\n",
       "</tbody>\n",
       "</table>\n"
      ],
      "text/latex": [
       "A tibble: 6 × 7\n",
       "\\begin{tabular}{lllllll}\n",
       " species & region & island & culmen\\_length & culmen\\_depth & flipper\\_length & body\\_mass\\\\\n",
       " <fct> & <chr> & <chr> & <dbl> & <dbl> & <dbl> & <dbl>\\\\\n",
       "\\hline\n",
       "\t Adelie Penguin (Pygoscelis adeliae) & Anvers & Torgersen & 39.1 & 18.7 & 181 & 3750\\\\\n",
       "\t Adelie Penguin (Pygoscelis adeliae) & Anvers & Torgersen & 39.5 & 17.4 & 186 & 3800\\\\\n",
       "\t Adelie Penguin (Pygoscelis adeliae) & Anvers & Torgersen & 40.3 & 18.0 & 195 & 3250\\\\\n",
       "\t Adelie Penguin (Pygoscelis adeliae) & Anvers & Torgersen &   NA &   NA &  NA &   NA\\\\\n",
       "\t Adelie Penguin (Pygoscelis adeliae) & Anvers & Torgersen & 36.7 & 19.3 & 193 & 3450\\\\\n",
       "\t Adelie Penguin (Pygoscelis adeliae) & Anvers & Torgersen & 39.3 & 20.6 & 190 & 3650\\\\\n",
       "\\end{tabular}\n"
      ],
      "text/markdown": [
       "\n",
       "A tibble: 6 × 7\n",
       "\n",
       "| species &lt;fct&gt; | region &lt;chr&gt; | island &lt;chr&gt; | culmen_length &lt;dbl&gt; | culmen_depth &lt;dbl&gt; | flipper_length &lt;dbl&gt; | body_mass &lt;dbl&gt; |\n",
       "|---|---|---|---|---|---|---|\n",
       "| Adelie Penguin (Pygoscelis adeliae) | Anvers | Torgersen | 39.1 | 18.7 | 181 | 3750 |\n",
       "| Adelie Penguin (Pygoscelis adeliae) | Anvers | Torgersen | 39.5 | 17.4 | 186 | 3800 |\n",
       "| Adelie Penguin (Pygoscelis adeliae) | Anvers | Torgersen | 40.3 | 18.0 | 195 | 3250 |\n",
       "| Adelie Penguin (Pygoscelis adeliae) | Anvers | Torgersen |   NA |   NA |  NA |   NA |\n",
       "| Adelie Penguin (Pygoscelis adeliae) | Anvers | Torgersen | 36.7 | 19.3 | 193 | 3450 |\n",
       "| Adelie Penguin (Pygoscelis adeliae) | Anvers | Torgersen | 39.3 | 20.6 | 190 | 3650 |\n",
       "\n"
      ],
      "text/plain": [
       "  species                             region island    culmen_length\n",
       "1 Adelie Penguin (Pygoscelis adeliae) Anvers Torgersen 39.1         \n",
       "2 Adelie Penguin (Pygoscelis adeliae) Anvers Torgersen 39.5         \n",
       "3 Adelie Penguin (Pygoscelis adeliae) Anvers Torgersen 40.3         \n",
       "4 Adelie Penguin (Pygoscelis adeliae) Anvers Torgersen   NA         \n",
       "5 Adelie Penguin (Pygoscelis adeliae) Anvers Torgersen 36.7         \n",
       "6 Adelie Penguin (Pygoscelis adeliae) Anvers Torgersen 39.3         \n",
       "  culmen_depth flipper_length body_mass\n",
       "1 18.7         181            3750     \n",
       "2 17.4         186            3800     \n",
       "3 18.0         195            3250     \n",
       "4   NA          NA              NA     \n",
       "5 19.3         193            3450     \n",
       "6 20.6         190            3650     "
      ]
     },
     "metadata": {},
     "output_type": "display_data"
    }
   ],
   "source": [
    "names(penguin_data)[13] <- \"body_mass\"\n",
    "names(penguin_data)[2] <- \"sample_number\"\n",
    "names(penguin_data)[10] <- \"culmen_length\"\n",
    "names(penguin_data)[11] <- \"culmen_depth\"\n",
    "names(penguin_data)[12] <- \"flipper_length\"\n",
    "names(penguin_data)[13] <- \"body_mass\"\n",
    "names(penguin_data)[3] <- \"species\"\n",
    "names(penguin_data)[4] <- \"region\"\n",
    "names(penguin_data)[5] <- \"island\"\n",
    "\n",
    "set.seed(1234)\n",
    "clean_penguin <- select(penguin_data, c(species, region, island, culmen_length, culmen_depth, flipper_length, body_mass))\n",
    "clean_penguin <- clean_penguin |> mutate(species = as.factor(species))\n",
    "head(clean_penguin)\n",
    "split_penguin <- initial_split(clean_penguin, prop = 0.75, strata = species)\n",
    "penguin_training <- training(split_penguin)  # USE FOR DATA VISUALATION/TRAINING\n",
    "penguin_testing <- testing(split_penguin)    # DO NOT USE UNTIL FINAL TEST"
   ]
  },
  {
   "cell_type": "markdown",
   "id": "0f8a4568-dbb3-4ebc-b569-f0dbc7121028",
   "metadata": {},
   "source": [
    "Methods:\n",
    "For our question, we plan to predict Penguin Species (Adelie, Chinstrap, or Gentoo) by looking at the variables \"culmen_length\", \"culmen_Depth\", \"flipper_length\", and \"body_mass\". Each of these are numerical variables that should allow us to easily calculate the nearest neighbors. In this way, we should be able to predict a penguins species when given only the culmen length, culmen debth, flipper length, and body mass. One way that we plan to visualize these is by using multivariate histogram charts. We will plot the different variables individually on histogram charts and color the bars to represent the count from each penguin species. Then, we will line the charts up in a grid so they are easier to read. \n",
    "\n",
    "Expected outcomes and significance:\n",
    "We expect to find that some penguin species typically have certain traits. For example, maybe one of the penguin species typically has the shortest culmen length. These findings could lend insight into the penguins evolution process. If we look at specific traits that have been developed over millions of years, we could perhaps get a better picture of what the world was like when they were evolving through the specific traits they developed. This could lead to future questions involving why certain penguin species developed differently than other penguin species and, in a similar vein, questions about where they will go from here."
   ]
  },
  {
   "cell_type": "code",
   "execution_count": null,
   "id": "98525371-fee2-4c87-9098-024248ab0fd2",
   "metadata": {},
   "outputs": [],
   "source": []
  }
 ],
 "metadata": {
  "kernelspec": {
   "display_name": "R",
   "language": "R",
   "name": "ir"
  },
  "language_info": {
   "codemirror_mode": "r",
   "file_extension": ".r",
   "mimetype": "text/x-r-source",
   "name": "R",
   "pygments_lexer": "r",
   "version": "4.2.2"
  }
 },
 "nbformat": 4,
 "nbformat_minor": 5
}
