{
 "cells": [
  {
   "cell_type": "markdown",
   "id": "7b225449-619a-4d55-9194-b7608cf2f163",
   "metadata": {},
   "source": [
    "# Predicting Penguin Species in the Palmer Archipelago"
   ]
  },
  {
   "cell_type": "markdown",
   "id": "d1ab81f0-f6a8-495f-8103-19e5876ec01e",
   "metadata": {
    "tags": []
   },
   "source": [
    "\n",
    "## 1. Introduction\n",
    "### Background Information: \n",
    "The Palmer Archipelago, which is situated off the western coast of the Antarctic Peninsula is located around the Southern pole of the Earth and routinely reaches temperatures lower than -40℃. While this is far too cold for humans to live comfortably, numerous animals call this continent, and the water around it, home. For this project, we will focus on the Adelie, Chinstrap, and Gentoo penguins that live on this landmass. It is important to conduct research on these penguins since climate warming and associated sea ice reductions in Antarctica have modified habitat conditions for some species. These include the congeneric Adelie, Chinstrap, and Gentoo penguins, which now demonstrate remarkable population responses to regional warming. (Forcada & Trathan & Reid & Murphy & Croxall, 2006). Therefore, the more information we have on these fascinating creatures, the greater the chances we have to help them and prevent their extinction.\n",
    "\n",
    "### Research Question: \n",
    "Can we predict the species of penguin based on their culmen length (mm), culmen depth (mm), flipper length (mm), and body mass (g)? These predictors were chosen for our research question based on their relevance to understanding the distinctive features of penguins in the Antarctic region.  By focusing on these specific parameters, we aim to create a predictive model that enhances our understanding of the unique appearance of different penguin species.\n",
    "\n",
    "### Description of the Dataset:\n",
    "This dataset, carefully collected and made available by Dr. Kristen Gorman and the Palmer Station, Antarctica LTER, a member of the Long Term Ecological Research Network, provides valuable insights into the ecological and morphological characteristics of penguin populations (Gorman 2014). It was collected in the Palmer Archipelago, which, besides being a popular tourist attraction, is also a common sight for researchers studying penguins as it is the location of multiple species’ breeding grounds. The dataset has information on three species of penguin (chinstrap penguins, adélie penguins, and gentoo penguins), and contains data collected from individual penguins including their species, region, egg dates, sex, various statistics relating to the culmens (the top section of a birds beak), flippers and body mass."
   ]
  },
  {
   "cell_type": "markdown",
   "id": "5cd76d84-e2b7-4f3e-96e7-9ce1a7342431",
   "metadata": {
    "tags": []
   },
   "source": [
    "| Varible | Unit | Description |\n",
    "| --- | --- | --- |\n",
    "| culmen_length | Millimeters (mm) | The length of the upper ridge of its beak.|\n",
    "| culmen_depth | Millimeters (mm) | The depth of the upper ridge of its beak.  |\n",
    "| flipper_length | Millimeters (mm) | The length of the its flippers.  |\n",
    "| body_mass | Grams (g) | The weight of the penguin's body.  |\n",
    "| species | | The class that we will be trying to predict. |\n",
    "\n"
   ]
  },
  {
   "cell_type": "markdown",
   "id": "901e3b7d-365d-4a12-820a-3cc9d4f5226e",
   "metadata": {},
   "source": [
    "### Expected outcomes and significance: \n",
    "We expect to find that some penguin species typically have certain traits. For example, maybe one of the penguin species typically has the shortest culmen length. These findings could lend insight into the penguins evolution process. If we look at specific traits that have been developed over millions of years, we could perhaps get a better picture of what the world was like when they were evolving through the specific traits they developed. This could lead to future questions involving why certain penguin species developed differently than other penguin species and, in a similar vein, questions about where they will go from here.Figure 1.1: Key variables in the data set"
   ]
  },
  {
   "cell_type": "markdown",
   "id": "01c5b0eb-1202-49c9-92c0-a3cc8bf40086",
   "metadata": {
    "tags": []
   },
   "source": [
    "## 2. Methods\n",
    "\n",
    "The dataset we are working on will need to be downloaded from a URL. We will need to \"tidy\" the data as it is not suited for work in it's current state. Only physical measurements will be considered from our dataset.  We will then split the dataset into 70%  training and 30% testing. This split is integral as we need to assess our model on unseen data. \n",
    "\n",
    "The first step in our project is the Data Splitting. We will divide the penguin dataset into two subsets which are a training set and a testing set. We are planning to use a split ratio of 70:30. The second step is the variable selection, we will select the relevant features, culmen length, culmen depth, flipper length, and body mass for prediction. The third step is the KNN Model Building. We will specify a KNN model for classification and train the KNN model using our training set. Then we will use cross-validation to find the optimal value of k. The fourth step is the Model Evaluation. We will use the testing data to evaluate the KNN model’s performance. The following classification performance metrics will be calculated to measure the performance of our model, Accuracy (to measure the overall model accuracy in predicting penguin species), Confusion Matrix (to assess the number of true positives and negatives, as well as false positives and negatives), Precision and Recall. The final step is the Visualization. We will visualize our result using multivariate histogram charts. We will plot the different variables individually on histogram charts and color the bars to represent the count from each penguin species. Then, we will line the charts up in a grid so they are easier to read.\n",
    "\n",
    "### Preliminary Data Processing\n",
    "The preliminary data processing includes:\n",
    "1. Downloading the dataset from the web.\n",
    "2. Wrangling the raw data into a tidy format.\n",
    "3. Splitting the data \n",
    "4. Visualization of Training Data"
   ]
  },
  {
   "cell_type": "markdown",
   "id": "7069a1cb-4d8c-4e80-b27e-1a63ef845525",
   "metadata": {
    "tags": []
   },
   "source": [
    "### 0. Environment setup"
   ]
  },
  {
   "cell_type": "code",
   "execution_count": null,
   "id": "05992c52-d415-4ee8-849d-f79da8a8fb89",
   "metadata": {
    "tags": []
   },
   "outputs": [],
   "source": [
    "#install these libraries \n",
    "install.packages(\"kknn\")\n",
    "install.packages('GGally')\n",
    "library(tidyverse) \n",
    "library(dplyr)\n",
    "library(tidymodels)\n",
    "library(kknn)\n",
    "options(repr.matrix.max.rows = 6)"
   ]
  },
  {
   "cell_type": "markdown",
   "id": "827e1315-4919-4475-96bd-ee3be8e3c191",
   "metadata": {
    "tags": []
   },
   "source": [
    "### 1. Downloading the dataset from the web."
   ]
  },
  {
   "cell_type": "code",
   "execution_count": null,
   "id": "053d9dcc-0b4a-465e-8443-bd3c54157cf5",
   "metadata": {
    "tags": []
   },
   "outputs": [],
   "source": [
    "#download and read data\n",
    "download.file(\"https://raw.githubusercontent.com/matthewsans/DCSI-100-group-project/main/penguins_lter.csv\", \"penguins\")\n",
    "penguin_data <- read_csv(\"penguins\")\n",
    "penguin_data\n"
   ]
  },
  {
   "cell_type": "raw",
   "id": "73db4e7e-602d-4658-9517-bdb72a9cb7a7",
   "metadata": {},
   "source": [
    "Figure 2.1: Raw Penguin data"
   ]
  },
  {
   "cell_type": "markdown",
   "id": "e9c94907-81e0-42dc-ba63-fcc687d7ff28",
   "metadata": {},
   "source": [
    "### 2. Tidying the raw data.\n",
    "\n",
    "The raw data has a number irrelevant columns, and we will only include columns that have recorded physical measurements which include the following; Culmen Length (mm), Culmen Depth (mm), Flipper Length (mm), and Body Mass (g). Finally will include the Species column, and change its data type to be a factor as its the class we are trying to predict. We will also refactor the Species observations to shortened names to make them easier to work with. The columns also need to be standardized so we will remove spaces and only use lower-case characters. "
   ]
  },
  {
   "cell_type": "code",
   "execution_count": null,
   "id": "ffed0983-45fb-4996-b00a-f989ba2c9db1",
   "metadata": {
    "tags": []
   },
   "outputs": [],
   "source": [
    "#Wrangle and clean data\n",
    "names(penguin_data)[13] <- \"body_mass\"\n",
    "names(penguin_data)[2] <- \"sample_number\"\n",
    "names(penguin_data)[3] <- \"species\"\n",
    "names(penguin_data)[10] <- \"culmen_length\"\n",
    "names(penguin_data)[11] <- \"culmen_depth\"\n",
    "names(penguin_data)[12] <- \"flipper_length\"\n",
    "names(penguin_data)[13] <- \"body_mass\"\n",
    "names(penguin_data)[5] <- \"island\"\n",
    "\n",
    "penguin_data <- penguin_data |>\n",
    "  mutate(species = fct_recode(species,\n",
    "                              \"Adelie\" = \"Adelie Penguin (Pygoscelis adeliae)\",\n",
    "                              \"Chinstrap\" = \"Chinstrap penguin (Pygoscelis antarctica)\",\n",
    "                              \"Gentoo\" = \"Gentoo penguin (Pygoscelis papua)\"))\n",
    "na_penguin <- select(penguin_data, c(species, culmen_length, culmen_depth, flipper_length, body_mass)) |> \n",
    "    mutate(species = as.factor(species))\n",
    "clean_penguin <- select(penguin_data, c(species, culmen_length, culmen_depth, flipper_length, body_mass)) |> \n",
    "    mutate(species = as.factor(species)) |>\n",
    "    drop_na()\n",
    "clean_penguin"
   ]
  },
  {
   "cell_type": "markdown",
   "id": "e465d1d2-dc16-446b-bb58-2ca07a682d31",
   "metadata": {},
   "source": [
    "Figure 2.2: Tidy Penguin Data"
   ]
  },
  {
   "cell_type": "markdown",
   "id": "88e30be1-3b5e-4f68-97b2-caf38cec84ad",
   "metadata": {},
   "source": [
    "### 3. Splitting the Data \n",
    "\n",
    "The dataset will be separated into a split of 30% testing data and 70% training data. Setting a seed will ensure the random process of selected data can be repeated and produce the same results."
   ]
  },
  {
   "cell_type": "code",
   "execution_count": null,
   "id": "b9af16e8-583a-4ef8-8506-3f99a610f9ed",
   "metadata": {},
   "outputs": [],
   "source": [
    "#Split data for exploring and training\n",
    "set.seed(9876)\n",
    "split_penguin <- initial_split(clean_penguin, prop = 0.70, strata = species)\n",
    "penguin_training <- training(split_penguin)  # USE FOR DATA VISUALATION/TRAINING\n",
    "penguin_testing <- testing(split_penguin)    # DO NOT USE UNTIL FINAL TEST\n"
   ]
  },
  {
   "cell_type": "markdown",
   "id": "a18209fa-6afc-41f7-a9ad-3758bd69dbfe",
   "metadata": {},
   "source": [
    "### 4.  Summary Statistics of Training Data\n",
    "With the dataset cleaned and split we can now perform exploratory data analysis. The we first calculate the amount of NA's in the dataset, and we calculate the mean of each column for each species.\n"
   ]
  },
  {
   "cell_type": "code",
   "execution_count": null,
   "id": "98525371-fee2-4c87-9098-024248ab0fd2",
   "metadata": {
    "tags": []
   },
   "outputs": [],
   "source": [
    "#exploratory data analysis\n",
    "\n",
    "\n",
    "penguin_na <- na_penguin |>\n",
    "    group_by(species) |>\n",
    "    rowwise() |>\n",
    "    mutate(na_count = sum(is.na(c_across(everything())))) |>\n",
    "    group_by(species) |>\n",
    "    summarise(na_count = sum(na_count)) |>\n",
    "    select(na_count)\n",
    "penguin_mean <- penguin_training |>\n",
    "      group_by(species) |>\n",
    "      summarize(across(culmen_length:body_mass, \\(x) mean(x, na.rm = TRUE)))\n",
    "colnames(penguin_mean)[2:5] <- c(\"mean_culmen_length\", \"mean_culmen_depth\", \"mean_flipper_length\", \"mean_body_mass\")\n",
    "penguin_table <- bind_cols(penguin_mean, penguin_na)\n",
    "penguin_table\n",
    "\n"
   ]
  },
  {
   "cell_type": "markdown",
   "id": "e799098b-b96b-4624-bdab-40b9e2491bc2",
   "metadata": {},
   "source": [
    "Figure 2.3: Training Data Table Summary"
   ]
  },
  {
   "cell_type": "markdown",
   "id": "f79225a7-7e29-4973-bd79-5dca1622fe87",
   "metadata": {},
   "source": [
    "### 4.  Visualization of Training Data\n",
    "creates a visualization of the dataset that is relevant for exploratory data analysis related to the planned analysis\n",
    "We will produce graphs to visualize the relationship of the variables that are used to predict the penguin species. "
   ]
  },
  {
   "cell_type": "code",
   "execution_count": null,
   "id": "5acb7536-5cfa-4787-abea-0b6450e1ce46",
   "metadata": {
    "tags": []
   },
   "outputs": [],
   "source": [
    "#Visualization\n",
    "\n",
    "options(repr.plot.width = 8, repr.plot.height = 5)\n",
    "\n",
    "penguin_visual1 <- ggplot(penguin_training, aes(y = culmen_length, x = flipper_length, color = species, shape = species)) +\n",
    "    geom_point() + \n",
    "    labs(y = \"Culmen Length (mm)\", x = \"Flipper Length (mm)\", color = \"Species\", shape = \"Species\",\n",
    "        caption = \"Figure 2.4\") +\n",
    "    ggtitle(\"Culmen Length vs Flipper Length\") +\n",
    "    theme(text = element_text(size = 12)) \n",
    "\n",
    "penguin_visual2 <- ggplot(penguin_training, aes(y = culmen_depth, x = body_mass, color = species, shape = species)) +\n",
    "    geom_point() + \n",
    "    labs(y = \"Culmen Depth (mm)\", x = \"Body Mass (g)\", color = \"Species\", shape = \"Species\",\n",
    "        caption = \"Figure 2.5\") +\n",
    "    ggtitle(\"Culmen Depth vs Body mass\") +\n",
    "    theme(text = element_text(size = 12)) \n",
    "\n",
    "penguin_visual3 <- ggplot(penguin_training, aes(x = flipper_length, fill = species)) +\n",
    "    geom_histogram(binwidth = 5) +\n",
    "    labs(y = \"Frequency of Measurement\", x = \"Flipper Length (mm)\",\n",
    "        caption = \"Figure 2.6\", title = \"Frequency of Flipper Length Measurements\") +\n",
    "    theme(text = element_text(size = 12)) \n",
    "\n",
    "\n",
    "\n",
    "penguin_visual1\n",
    "penguin_visual2\n",
    "penguin_visual3"
   ]
  },
  {
   "cell_type": "markdown",
   "id": "73737a64-7ee1-4dc8-9dbb-4512ac203492",
   "metadata": {},
   "source": [
    "We can see from figures 2.4 and 2.5, that scattor plots show some seperation between the species based on the body mass, flipper length, culmen depth, and culmen length. The histogram further supports that flipper length have a different frequency distribution for each species. We can confidently determine that body mass, flipper length, culmen depth, and culmen length are great variables to choose for our model."
   ]
  },
  {
   "cell_type": "markdown",
   "id": "46c67e29-8f3b-42a4-888f-7dc455dae86d",
   "metadata": {
    "tags": []
   },
   "source": [
    "### Data Analysis \n",
    "The data analysis includes:\n",
    "1. Tuning the Classifier\n",
    "2. Creating the K-nearest Neighbor Model\n",
    "3. Evaluating performance"
   ]
  },
  {
   "cell_type": "markdown",
   "id": "491f5436-65a6-45fe-a67b-af68d5ae31e0",
   "metadata": {},
   "source": [
    "### 1. Tuning the Classifier"
   ]
  },
  {
   "cell_type": "markdown",
   "id": "acd78577-81b3-4c55-962b-c14788674023",
   "metadata": {},
   "source": [
    "In order to perform k-nearest neighbors analysis, the model needs to be tuned with cross-validation. This means a good k-value needs to carefully picked by trying different k-values on the training dataset, and finding the best performing one"
   ]
  },
  {
   "cell_type": "code",
   "execution_count": null,
   "id": "6398136f-3762-446e-b8eb-299d902f16e3",
   "metadata": {
    "tags": []
   },
   "outputs": [],
   "source": [
    "# we need to make a model\n",
    "#kkn_spec <- knn(\n",
    "set.seed(9876)\n",
    "\n",
    "\n",
    "new_penguin_plot <- ggplot(penguin_training, aes(x = island, colour = species)) +\n",
    "                           geom_bar()\n",
    "k_vals <- tibble(neighbors = seq(from = 1, to = 100, by = 5))\n",
    "\n",
    "penguin_vfold <- vfold_cv(penguin_training, v = 5, strata = species)\n",
    "\n",
    "penguin_spec <- nearest_neighbor(weight_func = \"rectangular\", neighbors = tune()) |>\n",
    "  set_engine(\"kknn\") |>\n",
    "  set_mode(\"classification\")\n",
    "\n",
    "penguin_recipe <- recipe(species ~ ., data = penguin_training) |>\n",
    "    step_center(all_predictors()) |>\n",
    "    step_scale(all_predictors())\n",
    "#Cross-validation\n",
    "penguin_fit <- workflow() |>\n",
    "    add_recipe(penguin_recipe) |>\n",
    "    add_model(penguin_spec) |>\n",
    "    tune_grid(resamples = penguin_vfold, grid = k_vals ) |>\n",
    "    collect_metrics()\n",
    "\n",
    "options(repr.plot.width = 6, repr.plot.height = 4)\n",
    "nn_plot <- penguin_fit |>\n",
    "    filter(.metric == \"accuracy\") |>\n",
    "    ggplot(aes(x = neighbors, y = mean)) +\n",
    "           geom_line() +\n",
    "           geom_point() + \n",
    "           geom_vline(xintercept = 16) +\n",
    "           scale_x_continuous(breaks = seq(1, 100, by = 5)) +\n",
    "           labs(x = \"Neighbors\", y = \"mean\", caption = \"Figure 2.7\", title = \"Knn Performance\")\n",
    "\n",
    "nn_plot\n",
    "    \n"
   ]
  },
  {
   "cell_type": "markdown",
   "id": "2119cfc2-3f7f-4585-81f6-b30884a84b43",
   "metadata": {},
   "source": [
    "We can see from Figure 2.7 that there are multiple contenders for a k-value to pick. However, it looks like k = 16 would provide us with the most stable value as it doesn't vary between the points next to it. The first point has a high mean, but is most likely a product of overfitting. We can now confidently train our model with a k-value of 16."
   ]
  },
  {
   "cell_type": "markdown",
   "id": "5e6aaf20-6450-40a2-abd4-ddd2c7df391b",
   "metadata": {
    "tags": []
   },
   "source": [
    "### 2. Creating the K-nearest Neighbor Model\n",
    "\n",
    "With our new k-value, we can create a model with the training data. The penguin testing dataset can now be used, and it will be key to assessing our model as it is data it has not seen yet. We can reuse the old recipe, but we will need new specifications for our model to update the neighbors. Figure 2.8 shows that there is a new column called .pred_class. This new column is our predicted species that our model has produced. "
   ]
  },
  {
   "cell_type": "code",
   "execution_count": null,
   "id": "f4448dc7-ce84-42b5-9cfe-66115c09ef31",
   "metadata": {
    "tags": []
   },
   "outputs": [],
   "source": [
    "\n",
    "best_spec <- penguin_spec <- nearest_neighbor(weight_func = \"rectangular\", neighbors = 16) |>\n",
    "  set_engine(\"kknn\") |>\n",
    "  set_mode(\"classification\")\n",
    "\n",
    "penguin_model <- workflow() |>\n",
    "    add_recipe(penguin_recipe) |>\n",
    "    add_model(best_spec) |>\n",
    "    fit(data = penguin_training) \n",
    "\n",
    "penguin_pred <- predict(penguin_model, penguin_testing) |>\n",
    "    bind_cols(penguin_testing)\n",
    "\n",
    "penguin_pred"
   ]
  },
  {
   "cell_type": "markdown",
   "id": "229f99ad-d147-464b-819c-6f03a9abe15b",
   "metadata": {},
   "source": [
    "Figure 2.8"
   ]
  },
  {
   "cell_type": "markdown",
   "id": "abc2d87c-e93b-46c9-83d5-53b9191bed20",
   "metadata": {},
   "source": [
    "### 3. Evaluating performance\n",
    "\n",
    "We can create a confusion matrix to determine help determine the performance of our model. It will show the species our model predicted correctly and incorrectly in an organized manner for assessment. "
   ]
  },
  {
   "cell_type": "code",
   "execution_count": null,
   "id": "e26014bc-bb9e-48bb-97b4-452590bc3916",
   "metadata": {
    "tags": []
   },
   "outputs": [],
   "source": [
    "confusion_matrix <- penguin_pred |>\n",
    "             conf_mat(truth = species, estimate = .pred_class)\n",
    "\n",
    "confusion_matrix"
   ]
  },
  {
   "cell_type": "markdown",
   "id": "d8bc5fa4-8506-4b06-a65a-e691513ba183",
   "metadata": {},
   "source": [
    "Figure 2.9: Confusion Matrix"
   ]
  },
  {
   "cell_type": "markdown",
   "id": "21048fd3-fd73-483d-95d1-cab5424b8ac2",
   "metadata": {},
   "source": [
    "Now that the confusion matrix is in hand, we can get an idea of how well our model has done by using the following accuracy formula, \n",
    "\\begin{align*} \\text{accuracy} &= \\frac{\\text{number of correct predictions}}{\\text{total number of predictions}}\\\\\n",
    "                         &= \\frac{100}{104} \\\\\n",
    "                         &\\approx 0.96 \n",
    "\\end{align*}\n",
    "\n",
    "With the max accuracy being 1.0, our accuracy of 0.96 indicates that our model is highly effective at predicting penguin species. The calculation of recall and precision become helpful when looking further into each species prediction. "
   ]
  },
  {
   "cell_type": "code",
   "execution_count": null,
   "id": "c1fab811-2869-47cc-bb47-87514d112087",
   "metadata": {
    "tags": []
   },
   "outputs": [],
   "source": [
    "\n",
    "\n",
    "Accuracy = c(0.92, 1.0, 1.0)\n",
    "recall = c(1.0, 0.81, 1.0)\n",
    "\n",
    "penguin_proportions <- penguin_testing |>\n",
    "                      group_by(species) |>\n",
    "                      summarize(n = n()) |>\n",
    "                      mutate(precision = Accuracy, recall = recall ) |>\n",
    "                      select(species, precision, recall)\n",
    "\n",
    "penguin_proportions "
   ]
  },
  {
   "cell_type": "markdown",
   "id": "9f115b22-8b52-4315-bb9b-fbf76a7ff1c6",
   "metadata": {
    "tags": []
   },
   "source": [
    "Figure  2.10: Precision and Recall table"
   ]
  },
  {
   "cell_type": "code",
   "execution_count": null,
   "id": "fd0db46b-1ba7-4dcd-8e92-34303010970d",
   "metadata": {},
   "outputs": [],
   "source": [
    "\n",
    "visual_final <- ggplot(penguin_pred, aes(x = species, fill = .pred_class)) +\n",
    "    geom_bar() +\n",
    "    labs(title = \"True Species vs Predicted Species\",\n",
    "       x = \"True Species\",\n",
    "       y = \"Count\",\n",
    "       fill = \"Predicted Class\",\n",
    "       caption = \"Figure 2.11\") +\n",
    "    theme_minimal() +\n",
    "    coord_flip() +\n",
    "    scale_x_discrete(labels = c(\"Adelie\", \"Chinstrap\", \"Gentoo\")) +\n",
    "    theme(axis.text.x = element_text(angle = 45, vjust = 1, hjust = 1))\n",
    "visual_final"
   ]
  },
  {
   "cell_type": "markdown",
   "id": "6d40b30a-e1a8-49e5-8501-4e061802a424",
   "metadata": {},
   "source": [
    "Precision measures the proportion of positive identifications made by the classifier that were indeed correct. Recall quantifies how many actual positive cases in the test set were correctly classified as positive by the model. Looking at the Figure 2.10 and the species distribution in Figure 2.11, it looks like the model had difficulty differentiating between the Adelie and Chinstrap species. Meanwhile the Gentoo species was predicting with flawless accuracy. "
   ]
  },
  {
   "cell_type": "markdown",
   "id": "960b5475-223e-4a21-a6a1-8113d8e4625f",
   "metadata": {},
   "source": [
    "## 3. Discussion"
   ]
  },
  {
   "cell_type": "markdown",
   "id": "0f8a4568-dbb3-4ebc-b569-f0dbc7121028",
   "metadata": {},
   "source": [
    "Our data science project, aimed at predicting penguin species, Chinstrap, Adélie, and Gentoo, in the Palmer Archipelago based on culmen length, culmen depth, flipper length, and body mass, has yielded significant findings through visualization and model evaluation.\n",
    " \n",
    "In our visualization analysis, focusing on culmen length and flipper length, we observed distinct clusters for these 3 species. This implies that these two features serve as reliable predictors for distinguishing between the species, offering a clear visual separation on the graph. However, the visualization of culmen depth and body mass presented a different situation. While Gentoo remains distinctly separate, Adélie and Chinstrap show less pronounced differences in these two features. This suggests that for Adélie and Chinstrap, culmen depth and body mass might not be as effective in isolation for species differentiation.\n",
    "\n",
    "The confusion matrix, a crucial element of model evaluation, revealed an impressive accuracy rate of approximately 96% in our classification model. This proves the model's proficiency in correctly classifying the three penguin species based on our chosen features. The precision metrics further enhance our understanding of the model's performance. For Adélie, the precision is calculated at 0.92. Chinstrap achieves a precision score of 1.0, denoting perfect precision, while Gentoo also achieves a perfect score of 1.0. The recall metrics, complementing precision, provide insight into the model's ability to correctly predict all instances of a particular species. In our model, Adélie, Chinstrap, and Gentoo all boast a recall score of 1.0, showing that the model effectively identifies and recalls all instances of these species.\n",
    " \n",
    "The overall model performance, as evidenced by the accuracy, precision, and recall metrics, demonstrates the efficacy of our predictive model in classifying penguin species. The clear separation observed in the visualization aligns with the high precision and recall scores, affirming the model's ability to correctly classify penguin species based on the selected features.\n"
   ]
  },
  {
   "cell_type": "markdown",
   "id": "fad5d4c3-ff15-47c5-9f35-8e0b70bfcf1d",
   "metadata": {},
   "source": [
    "### Expected Findings\n",
    "Our expectations going into the project were aligned with the assumption that certain morphological features, such as culmen length, flipper length, culmen depth, and body mass, would play crucial roles in distinguishing between different penguin species. The anticipation was that the visualization would reveal clear clusters for each species based on these features. The result matches the expectation, we create a predictive model with high accuracy, precision, and recall by using the above features, and the visualization further demonstrates the features' contribution in distinguishing these species.\n"
   ]
  },
  {
   "cell_type": "markdown",
   "id": "370f9dc2-95eb-4166-a73e-37857b2ddb40",
   "metadata": {},
   "source": [
    "### Expected outcomes and significance:\n",
    "Our expectations going into the project were aligned with the assumption that certain morphological features, such as culmen length, flipper length, culmen depth, and body mass, would play crucial roles in distinguishing between different penguin species. The anticipation was that the visualization would reveal clear clusters for each species based on these features. The result matches the expectation, we create a predictive model with high accuracy, precision, and recall by using the above features, and the visualization further demonstrates the features' contribution in distinguishing these species."
   ]
  },
  {
   "cell_type": "markdown",
   "id": "a35c2720-8912-4a91-9868-07acb19327e8",
   "metadata": {},
   "source": [
    "### Impact of Findings\n",
    "The protection among penguins is important since penguin populations potentially reflect both natural variability and directional change in oceanographic production within several hundred kilometers of their colonies, including changes induced by human activities (Trathan & García‐Borboroglu & Boersma &  Bost & Crawford & Crossin & Cuthbert &  Dann & Davis & De La Puente & Ellenberg &  Lynch & Mattern & Pütz & Seddon &, Trivelpiece  & Wienecke, B, 2015). Accurate species identification is paramount for implementing targeted conservation strategies. The model's ability to distinguish between species based on specific features can streamline conservation initiatives, ensuring they are tailored to the unique characteristics of each species. This, in turn, enhances the efficacy of conservation interventions and contributes to the overall well-being of penguin populations."
   ]
  },
  {
   "cell_type": "markdown",
   "id": "679973e5-105c-48f7-89bf-29c7bb74d35f",
   "metadata": {},
   "source": [
    "### Future Questions\n",
    "Future research could explore the inclusion of additional features or expand the dataset to encompass a broader range of morphological and ecological characteristics. This expansion may uncover supplementary features that contribute to species differentiation. Moreover, testing the model's performance across different regions could provide insights into regional variations in penguin morphology.\n",
    " \n",
    "To further enhance species understanding, future investigations could delve into the behavioral and genetic factors influencing penguin morphology. Exploring how behaviors and genetic variations contribute to observed morphological differences may offer a more comprehensive picture of species dynamics.\n"
   ]
  },
  {
   "cell_type": "markdown",
   "id": "9c4f1795-275c-4925-89cb-0335d7d0b461",
   "metadata": {},
   "source": [
    "## References: \n",
    "Trathan, P. N., García‐Borboroglu, P., Boersma, D., Bost, C., Crawford, R. J. M., Crossin, G. T.,      \n",
    "Cuthbert, R. J., Dann, P., Davis, L. S., De La Puente, S., Ellenberg, U., Lynch, H. J., Mattern, T., Pütz, K., Seddon, P. J., Trivelpiece, W., & Wienecke, B. (2015). Pollution, habitat loss, fishing, and climate change as critical threats to penguins. Conservation Biology, 29(1), 31-41.\n",
    "https://doi.org/10.1111/cobi.12349\n",
    "Forcada, J., Trathan, P.N., Reid, K., Murphy, E.J., Croxall, J.P. (2006).2.Contrasting population \n",
    "changes in sympatric penguin species in association with climate warming. Global Change Biology (2006) 12, 411–423.\n",
    "doi: 10.1111/j.1365-2486.2006.01108.x\n",
    "Gorman, K. B., Williams, T. D., & Fraser, W. R. (2014). Ecological sexual dimorphism and  \n",
    "environmental variability within a community of antarctic penguins (Genus Pygoscelis). PloS One, 9(3), e90081–e90081. \n",
    "https://doi.org/10.1371/journal.pone.0090081\n"
   ]
  },
  {
   "cell_type": "code",
   "execution_count": null,
   "id": "e5a2d4fb-27b5-48de-9399-b07472710fd8",
   "metadata": {},
   "outputs": [],
   "source": []
  }
 ],
 "metadata": {
  "kernelspec": {
   "display_name": "R",
   "language": "R",
   "name": "ir"
  },
  "language_info": {
   "codemirror_mode": "r",
   "file_extension": ".r",
   "mimetype": "text/x-r-source",
   "name": "R",
   "pygments_lexer": "r",
   "version": "4.2.2"
  }
 },
 "nbformat": 4,
 "nbformat_minor": 5
}
