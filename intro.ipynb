{
 "cells": [
  {
   "cell_type": "code",
   "execution_count": null,
   "id": "053d9dcc-0b4a-465e-8443-bd3c54157cf5",
   "metadata": {},
   "outputs": [],
   "source": [
    "library(tidyverse)"
   ]
  },
  {
   "cell_type": "code",
   "execution_count": null,
   "id": "ba2519ec-2045-4a21-b2eb-ca96b53efb81",
   "metadata": {},
   "outputs": [],
   "source": [
    "hihihi"
   ]
  },
  {
   "cell_type": "code",
   "execution_count": null,
   "id": "834dd0b5-fe8e-4102-ad2e-44c9d0182e53",
   "metadata": {},
   "outputs": [],
   "source": [
    "sd"
   ]
  }
 ],
 "metadata": {
  "kernelspec": {
   "display_name": "R",
   "language": "R",
   "name": "ir"
  },
  "language_info": {
   "codemirror_mode": "r",
   "file_extension": ".r",
   "mimetype": "text/x-r-source",
   "name": "R",
   "pygments_lexer": "r",
   "version": "4.2.2"
  }
 },
 "nbformat": 4,
 "nbformat_minor": 5
}
